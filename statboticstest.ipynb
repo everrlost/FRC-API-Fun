{
 "cells": [
  {
   "cell_type": "code",
   "execution_count": 27,
   "metadata": {},
   "outputs": [],
   "source": [
    "import statbotics\n",
    "import tbapy\n",
    "\n"
   ]
  },
  {
   "cell_type": "code",
   "execution_count": 28,
   "metadata": {},
   "outputs": [],
   "source": [
    "sb = statbotics.Statbotics()\n",
    "tba = tbapy.TBA('')"
   ]
  },
  {
   "cell_type": "code",
   "execution_count": 3,
   "metadata": {},
   "outputs": [],
   "source": [
    "import requests\n",
    "\n",
    "# Make an HTTP GET request to the Statbotics API endpoint that provides team data\n",
    "response = requests.get('https://api.statbotics.io/v2/teams')\n",
    "\n",
    "# If the request was successful, extract the team data from the response\n",
    "if response.status_code == 200:\n",
    "    data = response.json()"
   ]
  },
  {
   "cell_type": "code",
   "execution_count": 33,
   "metadata": {},
   "outputs": [],
   "source": [
    "data = tba.event_teams('2024mnmi')\n",
    "opr = tba.event_oprs('2024mnmi')"
   ]
  },
  {
   "cell_type": "code",
   "execution_count": 35,
   "metadata": {},
   "outputs": [
    {
     "name": "stdout",
     "output_type": "stream",
     "text": [
      "OPRs({'ccwms': {'frc2052': 15.736748554366933, 'frc2143': 6.421645019392694, 'frc2169': 4.806030888716545, 'frc2175': 17.946714805118077, 'frc2177': -11.6634028920173, 'frc2207': 6.5404907911248396, 'frc2225': -25.886997079876753, 'frc2239': 2.4889487321330064, 'frc2450': 2.829210144918564, 'frc2470': 23.241336157357697, 'frc2472': 26.12854166985066, 'frc2491': 11.667545134552263, 'frc2498': -16.029283219668066, 'frc2500': 12.502947988612814, 'frc2502': 21.242017833672964, 'frc2508': -2.2037993655256107, 'frc2511': -25.751796889797866, 'frc2513': -14.203948582989296, 'frc2518': -17.459966956167136, 'frc2530': 26.361415833433593, 'frc2574': -9.942141304459637, 'frc2606': -16.312186378597612, 'frc2823': 9.385466894703487, 'frc2846': 11.188402901655566, 'frc2855': 20.71275866221685, 'frc2879': -11.890972844019768, 'frc3007': -20.534325244824544, 'frc3018': 8.718862401347304, 'frc3026': 1.6845409816106178, 'frc3038': -5.997750110442232, 'frc3042': -0.6871983590676148, 'frc3100': 9.860526125070924, 'frc3122': -34.86692806763521, 'frc3202': -4.596186081329256, 'frc3407': 3.0367388610859694, 'frc3454': 13.271907484879343, 'frc3610': 0.26799741293696094, 'frc3630': 13.83358937953122, 'frc3691': -16.75188179076489, 'frc3751': -2.5606403840920433, 'frc3883': -9.439815605773836, 'frc3926': 28.458367288142277, 'frc4198': -8.026360231061803, 'frc4207': 5.9685709359512344, 'frc4215': -8.16475521536545, 'frc4225': 6.933738038968014, 'frc4277': 9.829221315769328, 'frc4632': -15.300750879054728, 'frc4663': 15.16712630388655, 'frc4664': 0.4639560544245528, 'frc4693': -13.413232003770412, 'frc5271': -17.254308003652746, 'frc5278': 1.282763263138358, 'frc5434': 9.272689753410686, 'frc5913': -0.8410296910525672, 'frc5996': 4.848997357562504, 'frc7019': 2.7942657122204877, 'frc7068': 21.377717977876543, 'frc7850': -14.71355034536009, 'frc8234': -5.213236325893284, 'frc8787': -12.68749891052415, 'frc9157': -33.87785589685541}, 'dprs': {'frc2052': 15.049495184631297, 'frc2143': 14.452650345432284, 'frc2169': 10.419465310254019, 'frc2175': 10.116236018205944, 'frc2177': 17.845381429855653, 'frc2207': 19.713878196069437, 'frc2225': 25.91707522222323, 'frc2239': 20.042656023434333, 'frc2450': 10.529412315585681, 'frc2470': 14.944062067816661, 'frc2472': 6.6401488749144875, 'frc2491': 17.54954809273604, 'frc2498': 20.89332399470167, 'frc2500': 7.670251808266581, 'frc2502': 4.508135617458796, 'frc2508': 25.110353441267378, 'frc2511': 25.210624932417968, 'frc2513': 19.36382832708854, 'frc2518': 24.479451872755938, 'frc2530': 11.238524017907217, 'frc2574': 23.991824860346803, 'frc2606': 22.042306612468714, 'frc2823': 22.6679804817297, 'frc2846': 15.874135977830555, 'frc2855': 0.8891587649817274, 'frc2879': 19.09872073943631, 'frc3007': 27.76771026797231, 'frc3018': 8.45865872259441, 'frc3026': 15.65099287077884, 'frc3038': 16.10370440757226, 'frc3042': 13.05319569358135, 'frc3100': 3.4762963094007056, 'frc3122': 38.54658497819584, 'frc3202': 11.581005220480657, 'frc3407': 14.108302985952836, 'frc3454': 7.899157275206669, 'frc3610': 14.014208743455667, 'frc3630': 14.516062949413607, 'frc3691': 25.162271608170297, 'frc3751': 12.95598502690134, 'frc3883': 24.278891347814557, 'frc3926': 12.759591158671114, 'frc4198': 17.90336455262061, 'frc4207': 14.70997987121375, 'frc4215': 20.706813545512777, 'frc4225': 6.7641475777020945, 'frc4277': 3.962198936215219, 'frc4632': 20.708222314651984, 'frc4663': 8.822710398197412, 'frc4664': 13.352534497556517, 'frc4693': 20.53098636255226, 'frc5271': 21.417503183359937, 'frc5278': 9.161739260874604, 'frc5434': 13.910994480199667, 'frc5913': 20.696048433015353, 'frc5996': 10.511797245104438, 'frc7019': 15.597195066143362, 'frc7068': 6.255446952600295, 'frc7850': 15.833933881077478, 'frc8234': 14.823198894332625, 'frc8787': 18.229895625364794, 'frc9157': 32.84337215905895}, 'oprs': {'frc2052': 30.786243738998216, 'frc2143': 20.874295364824974, 'frc2169': 15.22549619897056, 'frc2175': 28.062950823324016, 'frc2177': 6.18197853783836, 'frc2207': 26.254368987194294, 'frc2225': 0.030078142346469328, 'frc2239': 22.531604755567344, 'frc2450': 13.358622460504236, 'frc2470': 38.18539822517435, 'frc2472': 32.768690544765114, 'frc2491': 29.2170932272883, 'frc2498': 4.864040775033598, 'frc2500': 20.173199796879388, 'frc2502': 25.750153451131748, 'frc2508': 22.90655407574177, 'frc2511': -0.5411719573799108, 'frc2513': 5.159879744099246, 'frc2518': 7.019484916588806, 'frc2530': 37.59993985134081, 'frc2574': 14.049683555887166, 'frc2606': 5.730120233871115, 'frc2823': 32.05344737643321, 'frc2846': 27.06253887948613, 'frc2855': 21.60191742719858, 'frc2879': 7.207747895416534, 'frc3007': 7.23338502314777, 'frc3018': 17.17752112394172, 'frc3026': 17.33553385238947, 'frc3038': 10.105954297130024, 'frc3042': 12.365997334513732, 'frc3100': 13.336822434471628, 'frc3122': 3.679656910560638, 'frc3202': 6.9848191391514085, 'frc3407': 17.145041847038804, 'frc3454': 21.171064760086015, 'frc3610': 14.282206156392624, 'frc3630': 28.34965232894483, 'frc3691': 8.410389817405402, 'frc3751': 10.395344642809286, 'frc3883': 14.839075742040677, 'frc3926': 41.21795844681339, 'frc4198': 9.8770043215588, 'frc4207': 20.678550807164974, 'frc4215': 12.542058330147327, 'frc4225': 13.697885616670103, 'frc4277': 13.791420251984544, 'frc4632': 5.407471435597261, 'frc4663': 23.989836702083956, 'frc4664': 13.81649055198108, 'frc4693': 7.11775435878182, 'frc5271': 4.1631951797071824, 'frc5278': 10.44450252401295, 'frc5434': 23.18368423361035, 'frc5913': 19.85501874196279, 'frc5996': 15.360794602666953, 'frc7019': 18.391460778363854, 'frc7068': 27.63316493047684, 'frc7850': 1.1203835357174343, 'frc8234': 9.609962568439336, 'frc8787': 5.5423967148406295, 'frc9157': -1.0344837377964424}})\n"
     ]
    }
   ],
   "source": [
    "print(opr)"
   ]
  },
  {
   "cell_type": "code",
   "execution_count": 11,
   "metadata": {},
   "outputs": [
    {
     "ename": "TypeError",
     "evalue": "string indices must be integers",
     "output_type": "error",
     "traceback": [
      "\u001b[0;31m---------------------------------------------------------------------------\u001b[0m",
      "\u001b[0;31mTypeError\u001b[0m                                 Traceback (most recent call last)",
      "Input \u001b[0;32mIn [11]\u001b[0m, in \u001b[0;36m<cell line: 2>\u001b[0;34m()\u001b[0m\n\u001b[1;32m      1\u001b[0m \u001b[38;5;66;03m# sort data by state\u001b[39;00m\n\u001b[0;32m----> 2\u001b[0m data \u001b[38;5;241m=\u001b[39m \u001b[38;5;28;43msorted\u001b[39;49m\u001b[43m(\u001b[49m\u001b[43mdata\u001b[49m\u001b[43m,\u001b[49m\u001b[43m \u001b[49m\u001b[43mkey\u001b[49m\u001b[38;5;241;43m=\u001b[39;49m\u001b[38;5;28;43;01mlambda\u001b[39;49;00m\u001b[43m \u001b[49m\u001b[43mx\u001b[49m\u001b[43m:\u001b[49m\u001b[43m \u001b[49m\u001b[43mx\u001b[49m\u001b[43m[\u001b[49m\u001b[38;5;124;43m'\u001b[39;49m\u001b[38;5;124;43mstate\u001b[39;49m\u001b[38;5;124;43m'\u001b[39;49m\u001b[43m]\u001b[49m\u001b[43m)\u001b[49m\n\u001b[1;32m      4\u001b[0m \u001b[38;5;66;03m# create a dictionary to hold the sum and count of norm_epa for each state\u001b[39;00m\n\u001b[1;32m      5\u001b[0m state_totals \u001b[38;5;241m=\u001b[39m {}\n",
      "Input \u001b[0;32mIn [11]\u001b[0m, in \u001b[0;36m<lambda>\u001b[0;34m(x)\u001b[0m\n\u001b[1;32m      1\u001b[0m \u001b[38;5;66;03m# sort data by state\u001b[39;00m\n\u001b[0;32m----> 2\u001b[0m data \u001b[38;5;241m=\u001b[39m \u001b[38;5;28msorted\u001b[39m(data, key\u001b[38;5;241m=\u001b[39m\u001b[38;5;28;01mlambda\u001b[39;00m x: \u001b[43mx\u001b[49m\u001b[43m[\u001b[49m\u001b[38;5;124;43m'\u001b[39;49m\u001b[38;5;124;43mstate\u001b[39;49m\u001b[38;5;124;43m'\u001b[39;49m\u001b[43m]\u001b[49m)\n\u001b[1;32m      4\u001b[0m \u001b[38;5;66;03m# create a dictionary to hold the sum and count of norm_epa for each state\u001b[39;00m\n\u001b[1;32m      5\u001b[0m state_totals \u001b[38;5;241m=\u001b[39m {}\n",
      "\u001b[0;31mTypeError\u001b[0m: string indices must be integers"
     ]
    }
   ],
   "source": [
    "\n"
   ]
  },
  {
   "cell_type": "code",
   "execution_count": 12,
   "metadata": {},
   "outputs": [
    {
     "name": "stdout",
     "output_type": "stream",
     "text": [
      "{'key': '2022mndu2_qm2', 'year': 2022, 'event': '2022mndu2', 'comp_level': 'qm', 'set_number': 1, 'match_number': 2, 'playoff': False, 'time': 1646407018, 'status': 'Completed', 'red': '3926,2512,7530', 'blue': '2823,7021,4859', 'red_score': 18, 'blue_score': 65, 'winner': 'blue', 'elo_winner': 'blue', 'elo_win_prob': 0.3162, 'opr_winner': 'blue', 'opr_win_prob': 0.2949, 'mix_winner': 'blue', 'mix_win_prob': 0.3056, 'red_rp_1': 0, 'red_rp_1_prob': 0.0051, 'red_rp_2': 0, 'red_rp_2_prob': 0.0377, 'blue_rp_1': 0, 'blue_rp_1_prob': 0.0085, 'blue_rp_2': 1, 'blue_rp_2_prob': 0.0618, 'red_auto': 6, 'blue_auto': 8, 'red_teleop': 6, 'blue_teleop': 36, 'red_1': 8, 'blue_1': 40, 'red_2': 0, 'blue_2': 0, 'red_endgame': 6, 'blue_endgame': 21, 'red_fouls': 0, 'blue_fouls': 0, 'red_no_fouls': 18, 'blue_no_fouls': 65}\n"
     ]
    }
   ],
   "source": [
    "print(sb.get_match(\"2022mndu2_qm2\"))"
   ]
  },
  {
   "cell_type": "code",
   "execution_count": 37,
   "metadata": {},
   "outputs": [
    {
     "name": "stdout",
     "output_type": "stream",
     "text": [
      "[Team({'city': 'Iowa City', 'country': 'USA', 'key': 'frc167', 'name': 'Collins Aerospace/Kirkwood Regional Center/BAE Systems/ACT/Haas & West Senior High School & Liberty High School & Iowa City High School', 'nickname': 'Children of the Corn', 'state_prov': 'Iowa', 'team_number': 167}), Team({'city': 'Milwaukee', 'country': 'USA', 'key': 'frc1675', 'name': \"Rockwell Automation/Regal Rexnord/John Deere/GE Volunteers of GE Healthcare/Gene Haas Foundation/High Forest Investments LLC/HUSCO International, Inc./Midcoast Carpentry/Milwaukee School of Engineering/Shaky Hands Screen Printing/Classic Slice&Ronald W Reagan Prep HS&Rufus King Int'L High School&Bradley Tech & Trade School\", 'nickname': 'UPS (Ultimate Protection Squad)', 'state_prov': 'Wisconsin', 'team_number': 1675}), Team({'city': 'Oak Creek', 'country': 'USA', 'key': 'frc1792', 'name': 'Oak Creek Franklin Schools District/Regal Rexnord/Zünd Swiss Cutting Systems/AIM Transport/Rockwell Automation/Maestro Moterworks/Oak Creek Lions Club/Nucor/Air Products&Oak Creek High School', 'nickname': 'Round Table Robotics', 'state_prov': 'Wisconsin', 'team_number': 1792}), Team({'city': 'New Brighton', 'country': 'USA', 'key': 'frc2052', 'name': 'Groves Foundation/Medtronic/QONQR/Edlund Management&Irondale Senior High School', 'nickname': 'KnightKrawler', 'state_prov': 'Minnesota', 'team_number': 2052}), Team({'city': 'Minneapolis', 'country': 'USA', 'key': 'frc2129', 'name': 'Pentair/Boston Scientific/3M Company/HPE/Dorsey and Whitney Foundation/Banner Engineering/Donaldson Foundation/Stratasys/Virtex3D/Southwest Foundation/Red Cow/Red Wagon Pizza/Southwest Foundation&Southwest High School', 'nickname': 'Ultraviolet', 'state_prov': 'Minnesota', 'team_number': 2129}), Team({'city': 'Circle Pines', 'country': 'USA', 'key': 'frc2472', 'name': 'Medtronic/Baxter/Polaris/Twin City Fab, Inc./Festo & Centennial High School', 'nickname': 'Centurions', 'state_prov': 'Minnesota', 'team_number': 2472}), Team({'city': 'Saint Paul', 'country': 'USA', 'key': 'frc2491', 'name': 'Quality Tool/Smith Foundation&Avalon Charter School&Great River Montessori School', 'nickname': 'NoMythic', 'state_prov': 'Minnesota', 'team_number': 2491}), Team({'city': 'North St. Paul', 'country': 'USA', 'key': 'frc2501', 'name': '3M/Tolerance Tool/Boston Scientific/City of Maplewood & North High School', 'nickname': 'Bionic Polars', 'state_prov': 'Minnesota', 'team_number': 2501}), Team({'city': 'Eden Prairie', 'country': 'USA', 'key': 'frc2502', 'name': 'Continental Engineering &  Manufacturing (CEM)/IEEE Instrumentation & Measurement Society  (verbal= I triple E)/Schmitt Automotive/Gene Haas Foundation&Eden Prairie High School', 'nickname': 'Talon Robotics', 'state_prov': 'Minnesota', 'team_number': 2502}), Team({'city': 'Duluth', 'country': 'USA', 'key': 'frc2512', 'name': 'ISD709/Tricel Honeycomb/Saturn Systems/Lake Superior Consulting/Minnesota Power/National Bank of Commerce/Kiwanis of Friendly Duluth/Krech Ojard & Associates Inc./Hammerhead Attachments/Altec/Minnesota Coaches&Duluth East High School', 'nickname': 'Duluth East Daredevils', 'state_prov': 'Minnesota', 'team_number': 2512}), Team({'city': 'Apple Valley', 'country': 'USA', 'key': 'frc2667', 'name': 'Nordson Medical/Uponor/Ecolab/Somic/General Dynamics/Collins Aerospace/BTD Mfg&Apple Valley High School', 'nickname': 'Knights of the Valley', 'state_prov': 'Minnesota', 'team_number': 2667}), Team({'city': 'Oshkosh', 'country': 'USA', 'key': 'frc2826', 'name': 'Triangle Manufacturing Company/Oshkosh Corporation/Schneider Electric&Oshkosh Recreational Department', 'nickname': 'Wave Robotics', 'state_prov': 'Wisconsin', 'team_number': 2826}), Team({'city': 'Farmington', 'country': 'USA', 'key': 'frc2987', 'name': 'BTD Manufacturing/Collins Aerospace/Thompson Reuters&Farmington High School', 'nickname': 'Rogue Robotics', 'state_prov': 'Minnesota', 'team_number': 2987}), Team({'city': 'Elk River', 'country': 'USA', 'key': 'frc3023', 'name': 'Medtronic&Elk River Area Sr High School', 'nickname': 'STARK Industries', 'state_prov': 'Minnesota', 'team_number': 3023}), Team({'city': 'Saint Paul', 'country': 'USA', 'key': 'frc3100', 'name': 'Ecolab/3M/LCS/Banner Engineering/Thomson Reuters/BW Systems, INC/Nana/Ohana Home & Design/Twin Cities Siding Professionals&Henry Sibley High School', 'nickname': 'Lightning Turtles', 'state_prov': 'Minnesota', 'team_number': 3100}), Team({'city': 'Granite Falls', 'country': 'USA', 'key': 'frc3212', 'name': 'Pentair & Yellow Medicine East Mid HS', 'nickname': 'YME Stingbots', 'state_prov': 'Minnesota', 'team_number': 3212}), Team({'city': 'Pipestone', 'country': 'USA', 'key': 'frc3298', 'name': \"Medtronic/Bole Mor Lanes of Pipestone/Eagle Trucking/Pipestone Cruizers/Martinez Contracting/First State Bank Southwest of Pipestone/D & T's Market/Hank's Foods of Pipestone/Ludolph Bus Service/Pipestone Building Materials/Johnson Waste Management/Double D Gravel/C & B Operations/Christensen Broadcasting/Everett Tire & Auto/K & A Auto Body and Glass/CHS /Sioux Valley Energy/Pepsi Cola Bottling of Pipestone/G & S Body Shop/Dr. Paul Henriksen/HORD FARMS WEST&Pipestone Area Middle High Sch\", 'nickname': 'ArrowBots', 'state_prov': 'Minnesota', 'team_number': 3298}), Team({'city': 'Manitowoc', 'country': 'USA', 'key': 'frc3381', 'name': 'Jagemann Stamping/Lakeshore Community Foundation/West Foundation/Vollrath Co./Kohler Stewardship/Nextera Energy/CP Feeds/Wisconsin Aluminum Foundry/Fastenal&Valders High School', 'nickname': 'Droid Rage', 'state_prov': 'Wisconsin', 'team_number': 3381}), Team({'city': 'Sheboygan Falls', 'country': 'USA', 'key': 'frc3418', 'name': 'Kohler Co./Vollrath/Curt G. Joa, Inc./BW Papersystems/Sargento/Wisconsin Department of Public Instruction/Rockline/Werner Electric Supply/Johnsonville/Gene Haas Foundation&Sheboygan Falls High School&Family/Community', 'nickname': 'RoboRiot', 'state_prov': 'Wisconsin', 'team_number': 3418}), Team({'city': 'Litchfield', 'country': 'USA', 'key': 'frc3755', 'name': 'Pentair & Litchfield Senior High School', 'nickname': 'Dragon Robotics', 'state_prov': 'Minnesota', 'team_number': 3755}), Team({'city': 'Cottage Grove', 'country': 'USA', 'key': 'frc3883', 'name': '3 M/BW Systems/Solidworks&Park High School', 'nickname': 'Data Bits', 'state_prov': 'Minnesota', 'team_number': 3883}), Team({'city': 'Saint Paul', 'country': 'USA', 'key': 'frc3926', 'name': '3M/The Specialty Mfg. Co./MPA Families/Microsoft/Nokomis Pet Clinic/Hunter Martin, PLLC&Mounds Park Academy', 'nickname': 'MPArors', 'state_prov': 'Minnesota', 'team_number': 3926}), Team({'city': 'Ames', 'country': 'USA', 'key': 'frc3928', 'name': 'Iowa 4-H Foundation & Story County 4-H/Iowa State University College of Engineering/Danfoss/Workiva, Inc/3M/John Deere/Alliant Energy Foundation/CIT Signature Transportation/Renewable Energy Group (REG)/Intuitive Foundation/Kingland Systems/City of Ames Electric Services/Story County United Way/Interstate Battery - Ames/Ludicrous Creations/The Loft&4-H', 'nickname': 'Team Neutrino', 'state_prov': 'Iowa', 'team_number': 3928}), Team({'city': 'Mora', 'country': 'USA', 'key': 'frc4166', 'name': 'NASA/TEAM Industries&Mora Junior Senior High School', 'nickname': 'Robostang', 'state_prov': 'Minnesota', 'team_number': 4166}), Team({'city': 'Blackduck', 'country': 'USA', 'key': 'frc4181', 'name': 'Boston Scientific & Blackduck Public School', 'nickname': 'Quack Attack', 'state_prov': 'Minnesota', 'team_number': 4181}), Team({'city': 'Minneota', 'country': 'USA', 'key': 'frc4182', 'name': 'Boston Scientific & Minneota School', 'nickname': 'Viking Robotics', 'state_prov': 'Minnesota', 'team_number': 4182}), Team({'city': 'Albany', 'country': 'USA', 'key': 'frc4226', 'name': 'Eagle Lake Manufacturing/Albany Lions Club/Freeport National Bank/Freeport Lions Club/Target/Albany Jaycees/Avon Lions Club/Coldspring/Blattner Energy/Wells Concrete/JT Electric Service/Albany Recycling Center/Albany Bowling Center/Productivity Inc./Kerry Foods/Felling Trailers/Preferred Controls/Kotzer Excavating/Albany Chrysler Center/JT Electric/Avon Hills Lions Club&Albany Middle High School', 'nickname': 'Huskies', 'state_prov': 'Minnesota', 'team_number': 4226}), Team({'city': 'Duluth', 'country': 'USA', 'key': 'frc4230', 'name': 'Integris/Broughton Ward - Merrill Lynch/MTS Systems/Certifi/Krech Ojard & Associates&Duluth Marshall School', 'nickname': 'TopperBots', 'state_prov': 'Minnesota', 'team_number': 4230}), Team({'city': 'Willmar', 'country': 'USA', 'key': 'frc4239', 'name': \"Jennie-O Turkey Store/Gene Haas foundation/West Central Steel /Duininck Inc./Marcus Construction/Chappell Central/MinnWest Technology Campus/Rambow/Willmar Public Schools Activites/Southern Minnesota Beet Sugar Cooperative/Gurley's Foods/Relco/Home Depot&Willmar Senior High School\", 'nickname': 'WARPSPEED', 'state_prov': 'Minnesota', 'team_number': 4239}), Team({'city': 'Two Rivers', 'country': 'USA', 'key': 'frc4531', 'name': 'Manitowoc Philanthropic Society / Jagemann Stamping / Nextera Energy / Vollrath Co. / Green Bay Packers Foundation / Sargento / Burbey CPA / Solidworks / Ameriquip & Two Rivers High School', 'nickname': 'STEAMpunk', 'state_prov': 'Wisconsin', 'team_number': 4531}), Team({'city': 'Little Falls', 'country': 'USA', 'key': 'frc4623', 'name': \"Pentair/Sourcewell/Gene Haas Foundation/Froggy's Signs Inc/Pine Country Bank/NMRC - Northern Minnesota Robotics Conference/The Colemans&Little Falls Cmty High School\", 'nickname': 'Flyer Robotics', 'state_prov': 'Minnesota', 'team_number': 4623}), Team({'city': 'Owatonna', 'country': 'USA', 'key': 'frc4624', 'name': 'Federated Insurance/Profinium/ISD 761 Foundation /Eagles Club Aerie 1791&Owatonna High School', 'nickname': 'Rebel Alliance', 'state_prov': 'Minnesota', 'team_number': 4624}), Team({'city': 'Menahga', 'country': 'USA', 'key': 'frc4703', 'name': 'University of Minnesota/APQ Engineering, Inc/Tom Haas&Menahga School', 'nickname': 'Menahga Gigabot$', 'state_prov': 'Minnesota', 'team_number': 4703}), Team({'city': 'Chanhassen', 'country': 'USA', 'key': 'frc4778', 'name': 'Mark and Theresa Fleischhacker Foundation/ISD112&Chanhassen High School', 'nickname': 'Stormbots', 'state_prov': 'Minnesota', 'team_number': 4778}), Team({'city': 'Milwaukee', 'country': 'USA', 'key': 'frc4786', 'name': 'Lippman Jungers LLC/Snap-on Incorporated/Nicolet Union High School Foundation/WFFA Mentor Todd Gaulke of Team Excitement/Rockwell Automation/NASA&Nicolet High School', 'nickname': 'Nicolet FEAR', 'state_prov': 'Wisconsin', 'team_number': 4786}), Team({'city': 'Hermantown', 'country': 'USA', 'key': 'frc5232', 'name': \"Gene Haas Foundation/Irving Community Club/Lake Superior Carl Perkins Consortium/Pachel Foundation/Kwik Trip/Harbor Pointe Credit Union/Duluth Police Department Employee's Credit Union/Aluminum Cabinet Company/Hermantown Community Schools&Hermantown High School\", 'nickname': 'Talons', 'state_prov': 'Minnesota', 'team_number': 5232}), Team({'city': 'Cedar Falls', 'country': 'USA', 'key': 'frc525', 'name': 'Cedar Valley Dental Associates/John Deere/Cedar Falls Community Schools&Cedar Falls High School', 'nickname': 'Swartdogs', 'state_prov': 'Iowa', 'team_number': 525}), Team({'city': 'Saint Paul', 'country': 'USA', 'key': 'frc5271', 'name': 'Open World Lrng Community', 'nickname': 'Open Circuits', 'state_prov': 'Minnesota', 'team_number': 5271}), Team({'city': 'Houston', 'country': 'USA', 'key': 'frc5339', 'name': 'AcenTek/Ashley Furniture/Mathy Construction/FlexCraft&Houston High School', 'nickname': 'Hurricanes', 'state_prov': 'Minnesota', 'team_number': 5339}), Team({'city': 'Shakopee', 'country': 'USA', 'key': 'frc5541', 'name': 'Gene Haas Foundation/FESTO/Alexandria Technical College Foundation/Shakopee High School&Shakopee Senior High School', 'nickname': 'Sabers', 'state_prov': 'Minnesota', 'team_number': 5541}), Team({'city': 'Spirit Lake', 'country': 'USA', 'key': 'frc5576', 'name': \"Rockwell Collins/AGCO Global Women's Network&Spirit Lake High School\", 'nickname': 'Team Terminator', 'state_prov': 'Iowa', 'team_number': 5576}), Team({'city': 'Kiel', 'country': 'USA', 'key': 'frc5586', 'name': 'Kohler Company / Curt G. Joa, Inc. / Kiel Optimist Club / HUI Manufacturing & New Holstein High School & Kiel High School', 'nickname': 'Bond Brigade', 'state_prov': 'Wisconsin', 'team_number': 5586}), Team({'city': 'Hinckley', 'country': 'USA', 'key': 'frc5720', 'name': 'Hinckley Lions Club & Hinckley-Finlayson High School', 'nickname': 'Jagobotics', 'state_prov': 'Minnesota', 'team_number': 5720}), Team({'city': 'Pequot Lakes', 'country': 'USA', 'key': 'frc5913', 'name': 'Pelican Lake Conservation Club / Pequot Tool and Manufacturing / Johnson Machine and Tool & Pequot Lakes School', 'nickname': 'Patriotics', 'state_prov': 'Minnesota', 'team_number': 5913}), Team({'city': 'Moose Lake', 'country': 'USA', 'key': 'frc6044', 'name': \"Medtronic /Mike LaVigne/Moose Lake Community School/Sturgeon Lake Lions Club/Outlaw Family trucking/Squishy Monkey/Valley Printing/ABC Auto/Tony Stewart Motors/KJ's Fresh Market/Roth Family Chiropractic/Moose Lake Florist&Moose Lake School\", 'nickname': 'Circuit Breakers', 'state_prov': 'Minnesota', 'team_number': 6044}), Team({'city': 'Crosby', 'country': 'USA', 'key': 'frc6132', 'name': 'Northern Minnesota Robotics Conference/Crosby-Ironton High School/Graphics Packaging International/Medtronic&Crosby-Ironton Jr Sr High Sch', 'nickname': 'Iron Rangers', 'state_prov': 'Minnesota', 'team_number': 6132}), Team({'city': 'Mound', 'country': 'USA', 'key': 'frc6147', 'name': 'The Newkirk Foundation/Polaris/Kelly, Holt, and Christenson/New Town Exteriors/Structures/Boston Scientific/Reitan Law Office/Paintertainment/Glitter Glamper&Mound Westonka High School', 'nickname': 'Tonkabots', 'state_prov': 'Minnesota', 'team_number': 6147}), Team({'city': 'Muskego', 'country': 'USA', 'key': 'frc6421', 'name': 'Material Control Solutions /PPG/Regal Rexnord/CAM Tech/InPro&Muskego High School', 'nickname': 'WarriorBots', 'state_prov': 'Wisconsin', 'team_number': 6421}), Team({'city': 'Whitewater', 'country': 'USA', 'key': 'frc6574', 'name': 'MacLean-Fogg Component Solutions/Whitewater Unified School District/LaGrange International Airport/Borglin Family Foundation/Wisconsin Department of Public Instruction/Anonymous/MicroPrecision/Gene Haas Foundation/Applied Material Solutions/Medtronic/The Coburn Company/HSI Rentals/First Citizens State Bank/Schenck Process/Walmart/Whitewater Kiwanis Breakfast Club/Generac Power Systems/In Memory of Eric Sedmak/Intuitive Foundation/Whitewater Generating Station/Pentair/In Memory of Howard P. Nelson/Weber Family/Anonymous WUSD Staff Member/Streib Construction/Lavelle Industries/Keystone Real Estate Investments LLC/Matthew Glowacki/Supportive Healing Connie Weihert.&Whitewater High School', 'nickname': 'Ferradermis', 'state_prov': 'Wisconsin', 'team_number': 6574}), Team({'city': 'Kasson', 'country': 'USA', 'key': 'frc6758', 'name': 'KM Athletic Booster Club/Just Like Home/Hardware Hank/KMTelecom/Akkerman/LC Trucking LLC./U.S Charitable Gift Trust /Kasson Laser Graphics/IBEW343/McNeilus /WKHS/Haas Foundation/Mayo Clinic /Ellingson /Con-Tech /Jason Ogilvie Home Care and Repair/Howell Family /Integer /DISTek Integration /RFA Engineering/Matrix Engineering/McNally /Cindy Glazier /Eddie Ingram /Welsh Equipment Inc&Kasson-Mantorville High School', 'nickname': 'Otternauts', 'state_prov': 'Minnesota', 'team_number': 6758}), Team({'city': 'Arcadia', 'country': 'USA', 'key': 'frc7021', 'name': 'Ashley Furniture Inc./Lab Midwest/Fastenal/Arcadia Credit Union/Mathy Construction Company&Family/Community', 'nickname': 'TC Robotics', 'state_prov': 'Wisconsin', 'team_number': 7021}), Team({'city': 'Zumbrota', 'country': 'USA', 'key': 'frc7273', 'name': 'Zumbrota Community Trust/Lohmann Farms/BTD/TSP INC,   Ag Partners,  Zumbrota Drivetrain,    Bolton &Menk   Prairie Ridge Orthodontics/Zumbrota/Mazeppa Robotic Booster Club&Zumbrota-Mazeppa High School', 'nickname': 'ZooM 7273', 'state_prov': 'Minnesota', 'team_number': 7273}), Team({'city': 'Virginia', 'country': 'USA', 'key': 'frc7311', 'name': 'Virgina High School', 'nickname': 'Boring Robots', 'state_prov': 'Minnesota', 'team_number': 7311}), Team({'city': 'Watertown', 'country': 'USA', 'key': 'frc7530', 'name': 'Watertown Lions Club/Midwest Motion Products/Luther Brookdale Toyota/Cargill/American Legion - Watertown Post 121/Mike DeNomme Construction Inc./Procise Solutions/Gone Again Travel LLC/Wilson Development Services LLC&Watertown-Mayer High School', 'nickname': 'B.O.S. Robotics', 'state_prov': 'Minnesota', 'team_number': 7530}), Team({'city': 'Jamestown', 'country': 'USA', 'key': 'frc7578', 'name': 'Family/Community', 'nickname': 'Quantum Mechanics', 'state_prov': 'North Dakota', 'team_number': 7578}), Team({'city': 'Swanville', 'country': 'USA', 'key': 'frc7677', 'name': 'Swanville Lions Club/Swanville Dollars for Scholars/Northern Minnesota Robotics Conference/Gene Haas Foundation/M&M Turkeys/Grey Eagle/Burtrum Lions Club&Swanville School', 'nickname': 'Bodacious Bulldogs', 'state_prov': 'Minnesota', 'team_number': 7677}), Team({'city': 'Cook', 'country': 'USA', 'key': 'frc7864', 'name': 'North Woods School', 'nickname': 'North Woods Robotics', 'state_prov': 'Minnesota', 'team_number': 7864}), Team({'city': 'Waupaca', 'country': 'USA', 'key': 'frc8700', 'name': 'Waupaca Foundry, Inc./Fastenal/Doig/Waupaca Rotary&Waupaca High School', 'nickname': 'W.I.R.E.D', 'state_prov': 'Wisconsin', 'team_number': 8700}), Team({'city': 'Marinette', 'country': 'USA', 'key': 'frc8803', 'name': 'Waupaca Foundry/Resolute Forest Products/MHS Booster Club/Lithocrafters Printing&Marinette High School', 'nickname': 'MechaMarines', 'state_prov': 'Wisconsin', 'team_number': 8803})]\n"
     ]
    }
   ],
   "source": [
    "print(tba.event_teams(\"2023mndu2\", [3926]))"
   ]
  }
 ],
 "metadata": {
  "kernelspec": {
   "display_name": "Python 3.10.6 64-bit",
   "language": "python",
   "name": "python3"
  },
  "language_info": {
   "codemirror_mode": {
    "name": "ipython",
    "version": 3
   },
   "file_extension": ".py",
   "mimetype": "text/x-python",
   "name": "python",
   "nbconvert_exporter": "python",
   "pygments_lexer": "ipython3",
   "version": "3.10.6"
  },
  "orig_nbformat": 4,
  "vscode": {
   "interpreter": {
    "hash": "aee8b7b246df8f9039afb4144a1f6fd8d2ca17a180786b69acc140d282b71a49"
   }
  }
 },
 "nbformat": 4,
 "nbformat_minor": 2
}
